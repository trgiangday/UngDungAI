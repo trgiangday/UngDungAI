{
 "cells": [
  {
   "cell_type": "markdown",
   "metadata": {
    "id": "bz9XrAUflaDB"
   },
   "source": [
    "# Model dự đoán khách hàng rời bỏ dịch vụ\n"
   ]
  },
  {
   "cell_type": "markdown",
   "metadata": {
    "id": "-BUjfWdGs-8v"
   },
   "source": [
    "# Đọc dữ liệu"
   ]
  },
  {
   "cell_type": "code",
   "execution_count": null,
   "metadata": {
    "id": "t-3zsFNLhrXy"
   },
   "outputs": [],
   "source": [
    "from google.colab import drive\n",
    "drive.mount('/content/drive')"
   ]
  },
  {
   "cell_type": "markdown",
   "metadata": {
    "id": "IUktyDZgs3N2"
   },
   "source": [
    "# Xem qua dữ liệu -EDA"
   ]
  },
  {
   "cell_type": "code",
   "execution_count": null,
   "metadata": {
    "colab": {
     "base_uri": "https://localhost:8080/"
    },
    "executionInfo": {
     "elapsed": 15,
     "status": "ok",
     "timestamp": 1744939288673,
     "user": {
      "displayName": "flamingo",
      "userId": "16990007968691042097"
     },
     "user_tz": -420
    },
    "id": "dfT593ZQeREE",
    "outputId": "319b9c22-cd41-4306-97b8-43cb9268dd11"
   },
   "outputs": [],
   "source": [
    "customer_data.info()"
   ]
  },
  {
   "cell_type": "code",
   "execution_count": null,
   "metadata": {
    "colab": {
     "base_uri": "https://localhost:8080/",
     "height": 711
    },
    "executionInfo": {
     "elapsed": 31,
     "status": "ok",
     "timestamp": 1744939331789,
     "user": {
      "displayName": "flamingo",
      "userId": "16990007968691042097"
     },
     "user_tz": -420
    },
    "id": "289cbxsDfOzO",
    "outputId": "7a8f16a5-402a-4a1c-9299-db31fe4534f5"
   },
   "outputs": [],
   "source": [
    "customer_data.isnull().sum()"
   ]
  },
  {
   "cell_type": "code",
   "execution_count": null,
   "metadata": {
    "colab": {
     "base_uri": "https://localhost:8080/"
    },
    "executionInfo": {
     "elapsed": 14,
     "status": "ok",
     "timestamp": 1744939386760,
     "user": {
      "displayName": "flamingo",
      "userId": "16990007968691042097"
     },
     "user_tz": -420
    },
    "id": "JkL8hu5BfUjE",
    "outputId": "d9681f0f-6aaa-4b1c-a27b-b1e0797aa277"
   },
   "outputs": [],
   "source": [
    "object_cols = [f for f in customer_data.columns if customer_data[f].dtype ==\"O\"]\n",
    "print(object_cols)"
   ]
  },
  {
   "cell_type": "code",
   "execution_count": null,
   "metadata": {
    "colab": {
     "base_uri": "https://localhost:8080/",
     "height": 1000
    },
    "executionInfo": {
     "elapsed": 1149,
     "status": "ok",
     "timestamp": 1744939416954,
     "user": {
      "displayName": "flamingo",
      "userId": "16990007968691042097"
     },
     "user_tz": -420
    },
    "id": "2BiiFW2jfkJl",
    "outputId": "324d5eea-ab90-4111-d813-6b440b5a3193"
   },
   "outputs": [],
   "source": [
    "for col in object_cols:\n",
    "  customer_data[col].value_counts().plot(kind='bar', figsize=(15,5))\n",
    "  plt.title(col)\n",
    "  plt.show()"
   ]
  },
  {
   "cell_type": "code",
   "execution_count": null,
   "metadata": {
    "colab": {
     "base_uri": "https://localhost:8080/"
    },
    "executionInfo": {
     "elapsed": 25,
     "status": "ok",
     "timestamp": 1744939527094,
     "user": {
      "displayName": "flamingo",
      "userId": "16990007968691042097"
     },
     "user_tz": -420
    },
    "id": "2dCM0tpgfvII",
    "outputId": "51def6dc-ad05-4276-bf69-aaa20339868c"
   },
   "outputs": [],
   "source": [
    "numeric_cols = [f for f in customer_data.columns if customer_data[f].dtype !=\"O\"]\n",
    "print(numeric_cols)"
   ]
  },
  {
   "cell_type": "code",
   "execution_count": null,
   "metadata": {
    "colab": {
     "base_uri": "https://localhost:8080/",
     "height": 1000
    },
    "executionInfo": {
     "elapsed": 2386,
     "status": "ok",
     "timestamp": 1744939546700,
     "user": {
      "displayName": "flamingo",
      "userId": "16990007968691042097"
     },
     "user_tz": -420
    },
    "id": "ICDbYvvOgEeQ",
    "outputId": "75ff5d0a-0910-4d23-9e9c-b2f10ca9432c"
   },
   "outputs": [],
   "source": [
    "for col in numeric_cols:\n",
    "  customer_data[col].hist()\n",
    "  plt.title(col)\n",
    "  plt.show()"
   ]
  },
  {
   "cell_type": "code",
   "execution_count": null,
   "metadata": {
    "colab": {
     "base_uri": "https://localhost:8080/",
     "height": 1000
    },
    "executionInfo": {
     "elapsed": 2461,
     "status": "ok",
     "timestamp": 1744939611288,
     "user": {
      "displayName": "flamingo",
      "userId": "16990007968691042097"
     },
     "user_tz": -420
    },
    "id": "H2TYO1fdgSyp",
    "outputId": "4ceb69ee-ee7f-4de1-e6c0-66e4c6133f1b"
   },
   "outputs": [],
   "source": [
    "for col in numeric_cols:\n",
    "  customer_data.boxplot(column=[col])\n",
    "  plt.title(col)\n",
    "  plt.show()"
   ]
  },
  {
   "cell_type": "markdown",
   "metadata": {
    "id": "kHjSbnIUgyfb"
   },
   "source": [
    "# Tiên xử lý dữ liệu để đưa vào model\n"
   ]
  },
  {
   "cell_type": "code",
   "execution_count": null,
   "metadata": {
    "id": "nZFUZ5__gtNN"
   },
   "outputs": [],
   "source": [
    "dataset = customer_data.copy()"
   ]
  },
  {
   "cell_type": "code",
   "execution_count": null,
   "metadata": {
    "colab": {
     "base_uri": "https://localhost:8080/",
     "height": 443
    },
    "executionInfo": {
     "elapsed": 105,
     "status": "ok",
     "timestamp": 1744939791623,
     "user": {
      "displayName": "flamingo",
      "userId": "16990007968691042097"
     },
     "user_tz": -420
    },
    "id": "s0IwMo8dhCmf",
    "outputId": "1a75fd73-b44c-4eec-a313-a05ec744b826"
   },
   "outputs": [],
   "source": [
    "he = ce.HashingEncoder(cols='state')\n",
    "dataset_hash = he.fit_transform(dataset)\n",
    "dataset_hash"
   ]
  },
  {
   "cell_type": "code",
   "execution_count": null,
   "metadata": {
    "colab": {
     "base_uri": "https://localhost:8080/",
     "height": 443
    },
    "executionInfo": {
     "elapsed": 45,
     "status": "ok",
     "timestamp": 1744939852834,
     "user": {
      "displayName": "flamingo",
      "userId": "16990007968691042097"
     },
     "user_tz": -420
    },
    "id": "dvex3L2thJ5G",
    "outputId": "a6d6daeb-6c79-414e-ef90-ef1fde859f0b"
   },
   "outputs": [],
   "source": [
    "dataset_hash_dummy = pd.get_dummies(dataset_hash, drop_first=True)\n",
    "dataset_hash_dummy"
   ]
  },
  {
   "cell_type": "code",
   "execution_count": null,
   "metadata": {
    "colab": {
     "base_uri": "https://localhost:8080/",
     "height": 176
    },
    "executionInfo": {
     "elapsed": 141,
     "status": "error",
     "timestamp": 1744939950049,
     "user": {
      "displayName": "flamingo",
      "userId": "16990007968691042097"
     },
     "user_tz": -420
    },
    "id": "oEyPBRC6hS9G",
    "outputId": "e5da4005-2441-4526-f77e-97d94bd34725"
   },
   "outputs": [],
   "source": [
    "# View correlation\n",
    "corr = dataset_hash_dummy.corr()\n",
    "corr.style.background_gradient(cmap='coolwarm').set_precision(2)"
   ]
  },
  {
   "cell_type": "code",
   "execution_count": null,
   "metadata": {
    "colab": {
     "base_uri": "https://localhost:8080/",
     "height": 947
    },
    "executionInfo": {
     "elapsed": 186,
     "status": "ok",
     "timestamp": 1744940017616,
     "user": {
      "displayName": "flamingo",
      "userId": "16990007968691042097"
     },
     "user_tz": -420
    },
    "id": "PwX64faOh0lT",
    "outputId": "09640205-501f-4aec-eb4e-b93753d755f6"
   },
   "outputs": [],
   "source": [
    "# View correlation\n",
    "corr = dataset_hash_dummy.corr()\n",
    "corr.style.background_gradient(cmap='coolwarm').format(precision=2) # Use format instead of set_precision"
   ]
  },
  {
   "cell_type": "code",
   "execution_count": null,
   "metadata": {
    "id": "91pA7cu5iPo1"
   },
   "outputs": [],
   "source": [
    "# Remove correlation columns\n",
    "dataset_hash_dummy_drop_corr = dataset_hash_dummy.drop(columns=[\"voice_mail_plan_yes\",\"total_day_charge\",\"total_eve_charge\",\"total_night_charge\",\"total_intl_charge\"])"
   ]
  },
  {
   "cell_type": "markdown",
   "metadata": {
    "id": "XU1iwOtNig45"
   },
   "source": [
    "# Exp 01: Upsampling = SMOTE, Scale = MINMAX và thử với Logistic"
   ]
  },
  {
   "cell_type": "code",
   "execution_count": null,
   "metadata": {
    "id": "KKoAZVE_ilOn"
   },
   "outputs": [],
   "source": [
    "# SMOTE & Scale\n",
    "X = dataset_hash_dummy_drop_corr.drop([\"churn_yes\"],axis=1)\n",
    "y = dataset_hash_dummy_drop_corr['churn_yes']\n",
    "\n",
    "# Chia train ,test\n",
    "X_train, X_test, y_train, y_test = train_test_split(X, y , test_size = 0.2, random_state=42)\n",
    "\n",
    "# Upsampling = SMOTE\n",
    "sm = SMOTE(k_neighbors=5)\n",
    "X_train_resample, y_train_resample = sm.fit_resample(X_train,y_train)\n",
    "\n",
    "#Scale\n",
    "\n",
    "scale_columns = ['account_length', 'number_vmail_messages', 'total_day_minutes',\n",
    "       'total_day_calls', 'total_eve_minutes', 'total_eve_calls',\n",
    "       'total_night_minutes', 'total_night_calls', 'total_intl_minutes',\n",
    "       'total_intl_calls', 'number_customer_service_calls']\n",
    "\n",
    "\n",
    "\n",
    "scaler = MinMaxScaler()\n",
    "scaler.fit(X_train_resample[scale_columns])\n",
    "X_train_resample[scale_columns] = scaler.transform(X_train_resample[scale_columns])\n",
    "X_test[scale_columns] = scaler.transform(X_test[scale_columns])"
   ]
  },
  {
   "cell_type": "code",
   "execution_count": null,
   "metadata": {
    "colab": {
     "base_uri": "https://localhost:8080/",
     "height": 332
    },
    "executionInfo": {
     "elapsed": 62,
     "status": "error",
     "timestamp": 1744940419012,
     "user": {
      "displayName": "flamingo",
      "userId": "16990007968691042097"
     },
     "user_tz": -420
    },
    "id": "zJsAuY54jb9O",
    "outputId": "ddfebdfd-5de3-441a-87b3-c535efc68fff"
   },
   "outputs": [],
   "source": [
    "# Logistic Regression\n",
    "model_log = LogisticRegression()\n",
    "model_log.fit(X_train_resample, y_train_resample)\n",
    "y_pred = model_log.predict(X_test)\n",
    "\n",
    "# In ra du lieu\n",
    "print(classification_report( y_test, y_pred))\n",
    "\n",
    "plot_confusion_matrix(model_log, X_test, y_test)"
   ]
  },
  {
   "cell_type": "code",
   "execution_count": null,
   "metadata": {
    "colab": {
     "base_uri": "https://localhost:8080/",
     "height": 605
    },
    "executionInfo": {
     "elapsed": 372,
     "status": "ok",
     "timestamp": 1744940497011,
     "user": {
      "displayName": "flamingo",
      "userId": "16990007968691042097"
     },
     "user_tz": -420
    },
    "id": "C6elrQv7jvAS",
    "outputId": "187219ea-1054-4d0c-f312-70640cff1e81"
   },
   "outputs": [],
   "source": [
    "# Logistic Regression\n",
    "from sklearn.metrics import confusion_matrix, ConfusionMatrixDisplay # Import ConfusionMatrixDisplay\n",
    "\n",
    "model_log = LogisticRegression()\n",
    "model_log.fit(X_train_resample, y_train_resample)\n",
    "y_pred = model_log.predict(X_test)\n",
    "\n",
    "# In ra du lieu\n",
    "print(classification_report( y_test, y_pred))\n",
    "\n",
    "# Create confusion matrix\n",
    "cm = confusion_matrix(y_test, y_pred)\n",
    "# Display confusion matrix\n",
    "disp = ConfusionMatrixDisplay(confusion_matrix=cm, display_labels=model_log.classes_)\n",
    "disp.plot()\n",
    "plt.show()"
   ]
  },
  {
   "cell_type": "markdown",
   "metadata": {
    "id": "5hZRSTWwkJZ3"
   },
   "source": [
    "# Exp 2: XGBOOST, Ko Upsampling, Ko Scale"
   ]
  },
  {
   "cell_type": "code",
   "execution_count": null,
   "metadata": {
    "id": "pJsjrM3-kNhH"
   },
   "outputs": [],
   "source": [
    "# SMOTE & Scale\n",
    "X = dataset_hash_dummy_drop_corr.drop([\"churn_yes\"],axis=1)\n",
    "y = dataset_hash_dummy_drop_corr['churn_yes']\n",
    "\n",
    "# Chia train ,test\n",
    "X_train, X_test, y_train, y_test = train_test_split(X, y , test_size = 0.2, random_state=42)\n"
   ]
  },
  {
   "cell_type": "code",
   "execution_count": null,
   "metadata": {
    "colab": {
     "base_uri": "https://localhost:8080/",
     "height": 349
    },
    "executionInfo": {
     "elapsed": 2096,
     "status": "error",
     "timestamp": 1744940653788,
     "user": {
      "displayName": "flamingo",
      "userId": "16990007968691042097"
     },
     "user_tz": -420
    },
    "id": "mr4d9zH_kSKN",
    "outputId": "543638f4-48fb-43bc-fa55-9710ec76aaca"
   },
   "outputs": [],
   "source": [
    "# XGBoost\n",
    "\n",
    "import xgboost as xgb\n",
    "\n",
    "model_xgb = xgb.XGBClassifier(random_state=42, n_estimators = 200)\n",
    "model_xgb.fit(X_train, y_train)\n",
    "\n",
    "\n",
    "y_pred = model_xgb.predict(X_test)\n",
    "# In bao cao ket qua\n",
    "print(classification_report( y_test, y_pred))\n",
    "plot_confusion_matrix(model_xgb, X_test, y_test)\n",
    "\n"
   ]
  },
  {
   "cell_type": "code",
   "execution_count": null,
   "metadata": {
    "colab": {
     "base_uri": "https://localhost:8080/",
     "height": 605
    },
    "executionInfo": {
     "elapsed": 456,
     "status": "ok",
     "timestamp": 1744940736560,
     "user": {
      "displayName": "flamingo",
      "userId": "16990007968691042097"
     },
     "user_tz": -420
    },
    "id": "O8ITHOF6koJ2",
    "outputId": "a8daa1de-1fc4-40e1-9533-a52b4639a007"
   },
   "outputs": [],
   "source": [
    "# @title Văn bản tiêu đề mặc định\n",
    "# XGBoost\n",
    "\n",
    "import xgboost as xgb\n",
    "from sklearn.metrics import confusion_matrix, ConfusionMatrixDisplay # Import ConfusionMatrixDisplay\n",
    "\n",
    "\n",
    "model_xgb = xgb.XGBClassifier(random_state=42, n_estimators = 200)\n",
    "model_xgb.fit(X_train, y_train)\n",
    "\n",
    "\n",
    "y_pred = model_xgb.predict(X_test)\n",
    "# In bao cao ket qua\n",
    "print(classification_report( y_test, y_pred))\n",
    "\n",
    "# plot_confusion_matrix(model_xgb, X_test, y_test)\n",
    "# plot_confusion_matrix is deprecated. Use sklearn.metrics.ConfusionMatrixDisplay instead\n",
    "cm = confusion_matrix(y_test, y_pred, labels=model_xgb.classes_)\n",
    "disp = ConfusionMatrixDisplay(confusion_matrix=cm, display_labels=model_xgb.classes_)\n",
    "disp.plot()\n",
    "plt.show()"
   ]
  },
  {
   "cell_type": "markdown",
   "metadata": {
    "id": "AglsYGp1lWq-"
   },
   "source": [
    "# Submit ket qua len Kaggle"
   ]
  },
  {
   "cell_type": "code",
   "execution_count": null,
   "metadata": {
    "id": "kfbFWNe8lDaH"
   },
   "outputs": [],
   "source": [
    "test = pd.read_csv(\"/content/test.csv\")\n",
    "id_submit = test['id']"
   ]
  },
  {
   "cell_type": "code",
   "execution_count": null,
   "metadata": {
    "id": "MC1p81K0lcuW"
   },
   "outputs": [],
   "source": [
    "test.drop(columns=['id'], inplace=True)"
   ]
  },
  {
   "cell_type": "code",
   "execution_count": null,
   "metadata": {
    "colab": {
     "base_uri": "https://localhost:8080/",
     "height": 255
    },
    "executionInfo": {
     "elapsed": 62,
     "status": "ok",
     "timestamp": 1744940968921,
     "user": {
      "displayName": "flamingo",
      "userId": "16990007968691042097"
     },
     "user_tz": -420
    },
    "id": "GAGQt1PrliFZ",
    "outputId": "46f94278-dbb1-4422-ef1f-dc1c2c2308cb"
   },
   "outputs": [],
   "source": [
    "test_hash_state = he.fit_transform(test)\n",
    "test_hash_state.head()"
   ]
  },
  {
   "cell_type": "code",
   "execution_count": null,
   "metadata": {
    "id": "_GHdEzlomILz"
   },
   "outputs": [],
   "source": [
    "test_dummy =  pd.get_dummies(test_hash_state,drop_first=True)\n",
    "test_dummy_drop_corr = test_dummy.drop(columns=[\"voice_mail_plan_yes\",\"total_day_charge\",\"total_eve_charge\",\"total_night_charge\",\"total_intl_charge\"])\n"
   ]
  },
  {
   "cell_type": "code",
   "execution_count": null,
   "metadata": {
    "colab": {
     "base_uri": "https://localhost:8080/"
    },
    "executionInfo": {
     "elapsed": 45,
     "status": "ok",
     "timestamp": 1744941136238,
     "user": {
      "displayName": "flamingo",
      "userId": "16990007968691042097"
     },
     "user_tz": -420
    },
    "id": "tjy0fWTCmLCn",
    "outputId": "fc5d77ab-50c2-41c6-bbde-4c4e73ad9795"
   },
   "outputs": [],
   "source": [
    "test_dummy_drop_corr.columns"
   ]
  },
  {
   "cell_type": "code",
   "execution_count": null,
   "metadata": {
    "id": "G__34RJHmRAn"
   },
   "outputs": [],
   "source": [
    "y_pred_submit = model_xgb.predict(test_dummy_drop_corr)"
   ]
  },
  {
   "cell_type": "code",
   "execution_count": null,
   "metadata": {
    "colab": {
     "base_uri": "https://localhost:8080/"
    },
    "executionInfo": {
     "elapsed": 25,
     "status": "ok",
     "timestamp": 1744941210216,
     "user": {
      "displayName": "flamingo",
      "userId": "16990007968691042097"
     },
     "user_tz": -420
    },
    "id": "KEEns7QjmbtN",
    "outputId": "bdb34ec5-ac2f-4862-a356-441e13301eb6"
   },
   "outputs": [],
   "source": [
    "y_pred_submit"
   ]
  },
  {
   "cell_type": "code",
   "execution_count": null,
   "metadata": {
    "id": "oTqRIY1JmwVx"
   },
   "outputs": [],
   "source": []
  }
 ],
 "metadata": {
  "colab": {
   "authorship_tag": "ABX9TyMWLdJAeAqgaufOQkQKz7KN",
   "provenance": []
  },
  "kernelspec": {
   "display_name": "Python 3",
   "name": "python3"
  },
  "language_info": {
   "codemirror_mode": {
    "name": "ipython",
    "version": 3
   },
   "file_extension": ".py",
   "mimetype": "text/x-python",
   "name": "python",
   "nbconvert_exporter": "python",
   "pygments_lexer": "ipython3",
   "version": "3.11.9"
  }
 },
 "nbformat": 4,
 "nbformat_minor": 0
}
